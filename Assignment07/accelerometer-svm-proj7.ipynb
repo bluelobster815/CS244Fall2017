{
 "cells": [
  {
   "cell_type": "markdown",
   "metadata": {},
   "source": [
    "### 1. Processing data"
   ]
  },
  {
   "cell_type": "code",
   "execution_count": 5,
   "metadata": {
    "collapsed": false
   },
   "outputs": [
    {
     "name": "stdout",
     "output_type": "stream",
     "text": [
      "(2347, 8)\n",
      "(2347,)\n"
     ]
    }
   ],
   "source": [
    "'''\n",
    "#Setting up SVM; processing input data in right format as input to svm.\n",
    "'''\n",
    "\n",
    "from sklearn import svm\n",
    "from sklearn import svm, datasets\n",
    "from sklearn.model_selection import GridSearchCV\n",
    "\n",
    "import numpy as np\n",
    "\n",
    "d00 = np.genfromtxt('sleeping_features.csv',delimiter=',')\n",
    "d01 = np.genfromtxt('sitting_features.csv',delimiter=',')\n",
    "d02 = np.genfromtxt('standing_features.csv',delimiter=',')\n",
    "d03 = np.genfromtxt('walking_features.csv',delimiter=',')\n",
    "\n",
    "\n",
    "n00 = d00.shape[0]\n",
    "n01 = d01.shape[0]\n",
    "n02 = d02.shape[0]\n",
    "n03 = d03.shape[0]\n",
    "\n",
    "#print(n00)\n",
    "#print(n01)\n",
    "#print(n02)\n",
    "#print(n03)\n",
    "\n",
    "t00 = np.zeros(n00) + 1\n",
    "t01 = np.zeros(n01) + 2\n",
    "t02 = np.zeros(n02) + 3\n",
    "t03 = np.zeros(n03) + 4\n",
    "\n",
    "\n",
    "d10 = np.vstack((d00,d01))\n",
    "d10 = np.vstack((d10,d02))\n",
    "d10 = np.vstack((d10,d03))\n",
    "\n",
    "#print(d10)\n",
    "print(d10.shape)\n",
    "\n",
    "t10 = np.concatenate((t00,t01))\n",
    "t10 = np.concatenate((t10,t02))\n",
    "t10 = np.concatenate((t10,t03))\n",
    "\n",
    "#print(t10)\n",
    "print(t10.shape)\n",
    "\n",
    "from sklearn.utils import shuffle\n",
    "d11, t11 = shuffle(d10, t10, random_state=0)\n",
    "\n",
    "#print(d11,t11)\n"
   ]
  },
  {
   "cell_type": "markdown",
   "metadata": {},
   "source": [
    "### 2. Cross validation. \n",
    "### Feature set: meanX, meanY, meanZ, varX, varY, varZ, meanMax, meanMin.   \n",
    "### 'C'=1, 'gamma'=auto"
   ]
  },
  {
   "cell_type": "code",
   "execution_count": 6,
   "metadata": {
    "collapsed": false
   },
   "outputs": [
    {
     "name": "stdout",
     "output_type": "stream",
     "text": [
      "SVC(C=1.0, cache_size=200, class_weight=None, coef0=0.0,\n",
      "  decision_function_shape='ovr', degree=3, gamma='auto', kernel='rbf',\n",
      "  max_iter=-1, probability=False, random_state=None, shrinking=True,\n",
      "  tol=0.001, verbose=False)\n",
      "[ 1.  1.  1.  1.  1.  1.  1.  1.  1.  1.]\n",
      "Accuracy: 1.00 (+/- 0.00)\n"
     ]
    }
   ],
   "source": [
    "#cross validation over 10 differnt combinations of the data set\n",
    "\n",
    "from sklearn.model_selection import cross_val_score\n",
    "\n",
    "clf = svm.SVC()\n",
    "print(clf)\n",
    "\n",
    "scores = cross_val_score(clf, d11, t11, cv=10)\n",
    "print(scores)\n",
    "print(\"Accuracy: %0.2f (+/- %0.2f)\" % (scores.mean(), scores.std() * 2))"
   ]
  },
  {
   "cell_type": "markdown",
   "metadata": {},
   "source": [
    "Cross validation show that the model fitted with paramaeters 'C'=1 and 'gamma'=auto (default parameters) results in a consistently good accuracy model."
   ]
  },
  {
   "cell_type": "markdown",
   "metadata": {},
   "source": [
    "### 3. SVM model fit. "
   ]
  },
  {
   "cell_type": "code",
   "execution_count": 8,
   "metadata": {
    "collapsed": false
   },
   "outputs": [
    {
     "name": "stdout",
     "output_type": "stream",
     "text": [
      "SVC(C=1.0, cache_size=200, class_weight=None, coef0=0.0,\n",
      "  decision_function_shape='ovr', degree=3, gamma='auto', kernel='rbf',\n",
      "  max_iter=-1, probability=False, random_state=None, shrinking=True,\n",
      "  tol=0.001, verbose=False)\n",
      "115 115\n",
      "accuracy:  100.0\n",
      "error:  0.0\n",
      "116 116\n",
      "accuracy:  100.0\n",
      "error:  0.0\n",
      "116 119\n",
      "accuracy:  97.4789915966\n",
      "error:  2.52100840336\n"
     ]
    }
   ],
   "source": [
    "#SVM classifier.  Feature set: X, y, z values \n",
    "from sklearn import svm\n",
    "from sklearn import svm, datasets\n",
    "from sklearn.model_selection import GridSearchCV\n",
    "\n",
    "import numpy as np\n",
    "\n",
    "\n",
    "dt01 = np.genfromtxt('sitting_short_features.csv', delimiter=',')\n",
    "dt02 = np.genfromtxt('standing_short_features.csv', delimiter=',')\n",
    "dt03 = np.genfromtxt('standing_short_features1.csv', delimiter=',')\n",
    "\n",
    "clf2 = svm.SVC()\n",
    "print(clf2)\n",
    "clf2.fit(d11,t11)\n",
    "zz01 = clf2.predict(dt01)\n",
    "nzz01 = zz01.shape[0]\n",
    "#print(zz01)\n",
    "ac01 = (zz01 == 1.).sum()\n",
    "print(ac01, nzz01)\n",
    "ac011 = (ac01/nzz01)*100\n",
    "print(\"accuracy: \", ac011)\n",
    "print(\"error: \", 100-ac011)\n",
    "\n",
    "zz02 = clf2.predict(dt02)\n",
    "nzz02 = zz02.shape[0]\n",
    "#print(zz02)\n",
    "ac02 = (zz02 == 3.).sum()\n",
    "print(ac02, nzz02)\n",
    "ac021 = (ac02/nzz02)*100\n",
    "print(\"accuracy: \", ac021)\n",
    "print(\"error: \", 100-ac021)\n",
    "\n",
    "zz03 = clf2.predict(dt03)\n",
    "nzz03 = zz03.shape[0]\n",
    "#print(zz03)\n",
    "ac03 = (zz03 == 3.).sum()\n",
    "print(ac03, nzz03)\n",
    "ac031 = (ac03/nzz03)*100\n",
    "print(\"accuracy: \", ac031)\n",
    "print(\"error: \", 100-ac031)\n",
    "\n"
   ]
  },
  {
   "cell_type": "markdown",
   "metadata": {},
   "source": [
    "The SVM model fit with x,y,z values as feature set results prediction error rate 0.08(%) "
   ]
  },
  {
   "cell_type": "code",
   "execution_count": null,
   "metadata": {
    "collapsed": true
   },
   "outputs": [],
   "source": []
  }
 ],
 "metadata": {
  "anaconda-cloud": {},
  "kernelspec": {
   "display_name": "Python [Root]",
   "language": "python",
   "name": "Python [Root]"
  },
  "language_info": {
   "codemirror_mode": {
    "name": "ipython",
    "version": 3
   },
   "file_extension": ".py",
   "mimetype": "text/x-python",
   "name": "python",
   "nbconvert_exporter": "python",
   "pygments_lexer": "ipython3",
   "version": "3.5.2"
  }
 },
 "nbformat": 4,
 "nbformat_minor": 2
}
