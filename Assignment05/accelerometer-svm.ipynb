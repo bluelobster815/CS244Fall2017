{
 "cells": [
  {
   "cell_type": "markdown",
   "metadata": {},
   "source": [
    "### 1. Processing data"
   ]
  },
  {
   "cell_type": "code",
   "execution_count": 12,
   "metadata": {},
   "outputs": [],
   "source": [
    "'''\n",
    "#Setting up SVM; processing input data in right format as input to svm.\n",
    "'''\n",
    "\n",
    "from sklearn import svm\n",
    "from sklearn import svm, datasets\n",
    "from sklearn.model_selection import GridSearchCV\n",
    "\n",
    "import numpy as np\n",
    "\n",
    "#--------------------------------\n",
    "\n",
    "def processData(indata):\n",
    "    sdata = np.hsplit(indata, np.array([1,4,5,8,9,12,13,16,17,20]))\n",
    "    \n",
    "    timestamps = sdata[0]\n",
    "#    print(timestamps)\n",
    "\n",
    "    odata1 = sdata[1]\n",
    "    otdata = sdata[2]\n",
    "    odata2 = (odata1*odata1).sum(axis=1)**0.5\n",
    "    for i in range(1,5):\n",
    "#        print(i)\n",
    "        odata1 = np.vstack((odata1,sdata[2*i+1]))\n",
    "        otdata = np.vstack((otdata,sdata[2*i+2]))\n",
    "        dd = (sdata[2*i+1]*sdata[2*i+1]).sum(axis=1)**0.5\n",
    "        odata2 = np.concatenate((odata2,dd))\n",
    "\n",
    "    otdata = np.ravel(otdata)\n",
    "    odata2 = odata2.reshape(-1,1)\n",
    "\n",
    "    return odata1, odata2, otdata, timestamps\n",
    "\n",
    "#-------------------------------\n",
    "\n",
    "indata = np.genfromtxt('indata2.csv',skip_header=1,delimiter=',')\n",
    "#print(indata)\n",
    "#print(indata.shape)\n",
    "\n",
    "n_data = indata.shape[0]\n",
    "\n",
    "n_trdata = (n_data*1)//3\n",
    "ttdata = indata[:n_trdata]\n",
    "trdata = indata[n_trdata:]\n",
    "\n",
    "#training data\n",
    "trdata1,trdata2,trtargetdata, ts = processData(trdata)\n",
    "\n",
    "#test data\n",
    "ttdata1,ttdata2,tttargetdata, ts2 = processData(ttdata)\n",
    "\n"
   ]
  },
  {
   "cell_type": "markdown",
   "metadata": {},
   "source": [
    "### 2. SVM model fit. Feature set x, y, z values.  "
   ]
  },
  {
   "cell_type": "code",
   "execution_count": 13,
   "metadata": {},
   "outputs": [
    {
     "name": "stdout",
     "output_type": "stream",
     "text": [
      "SVC(C=1, cache_size=200, class_weight=None, coef0=0.0,\n",
      "  decision_function_shape='ovr', degree=3, gamma=0.6, kernel='rbf',\n",
      "  max_iter=-1, probability=False, random_state=None, shrinking=True,\n",
      "  tol=0.001, verbose=False)\n",
      "score: 0.9472\n",
      "accuracy: 94.72 %\n"
     ]
    }
   ],
   "source": [
    "#SVM classifier.  Feature set: X, y, z values \n",
    "\n",
    "classifier1 = svm.SVC(C=1, gamma=0.6)\n",
    "print(classifier1)\n",
    "classifier1.fit(trdata1,trtargetdata)\n",
    "\n",
    "scoreval = classifier1.score(ttdata1,tttargetdata)\n",
    "print(\"score:\", scoreval)\n",
    "print('accuracy:', scoreval*100, '%')"
   ]
  },
  {
   "cell_type": "markdown",
   "metadata": {},
   "source": [
    "The SVM model fit with x,y,z values as feature set results in a good fit with accuracy around 94.72%.\n",
    "This result and accuracy of the model is further confirmed using cross validation over 10 combinations of the data set."
   ]
  },
  {
   "cell_type": "markdown",
   "metadata": {},
   "source": [
    "### 3. SVM model fit.  Magnitude of acceleration as feature set"
   ]
  },
  {
   "cell_type": "code",
   "execution_count": 14,
   "metadata": {},
   "outputs": [
    {
     "name": "stdout",
     "output_type": "stream",
     "text": [
      "SVC(C=1, cache_size=200, class_weight=None, coef0=0.0,\n",
      "  decision_function_shape='ovr', degree=3, gamma=0.6, kernel='rbf',\n",
      "  max_iter=-1, probability=False, random_state=None, shrinking=True,\n",
      "  tol=0.001, verbose=False)\n",
      "score: 0.530133333333\n",
      "accuracy: 53.0133333333 %\n"
     ]
    }
   ],
   "source": [
    "#SvM classifier. Feature set: magnitude of the acceration vector (sqrt(x*x+y*y+z*z))\n",
    "\n",
    "clf2 = svm.SVC(C=1, gamma=0.6)\n",
    "print(clf2)\n",
    "clf2.fit(trdata2,trtargetdata)\n",
    "scoreval = clf2.score(ttdata2,tttargetdata)\n",
    "print(\"score:\", scoreval)\n",
    "print('accuracy:', scoreval*100, '%')"
   ]
  },
  {
   "cell_type": "markdown",
   "metadata": {},
   "source": [
    "SVM model fit with magnitude as feature set is not a very good fit.  It results in accuracy of around 53% and is discarded for later use."
   ]
  },
  {
   "cell_type": "markdown",
   "metadata": {},
   "source": [
    "### 4. GridSearchCV to search for best parameters 'C' and 'gamma'"
   ]
  },
  {
   "cell_type": "code",
   "execution_count": 15,
   "metadata": {},
   "outputs": [
    {
     "name": "stdout",
     "output_type": "stream",
     "text": [
      "GridSearchCV(cv=None, error_score='raise',\n",
      "       estimator=SVC(C=1.0, cache_size=200, class_weight=None, coef0=0.0,\n",
      "  decision_function_shape='ovr', degree=3, gamma='auto', kernel='rbf',\n",
      "  max_iter=-1, probability=False, random_state=None, shrinking=True,\n",
      "  tol=0.001, verbose=False),\n",
      "       fit_params=None, iid=True, n_jobs=1,\n",
      "       param_grid=[{'C': [1, 10, 100, 1000], 'gamma': [0.3, 0.333, 0.4, 0.5, 0.6, 0.7], 'kernel': ['rbf']}],\n",
      "       pre_dispatch='2*n_jobs', refit=True, return_train_score='warn',\n",
      "       scoring=None, verbose=0)\n",
      "['mean_fit_time', 'mean_score_time', 'mean_test_score', 'mean_train_score', 'param_C', 'param_gamma', 'param_kernel', 'params', 'rank_test_score', 'split0_test_score', 'split0_train_score', 'split1_test_score', 'split1_train_score', 'split2_test_score', 'split2_train_score', 'std_fit_time', 'std_score_time', 'std_test_score', 'std_train_score']\n",
      "score: 0.946266666667\n",
      "accuracy: 94.6266666667 %\n"
     ]
    }
   ],
   "source": [
    "#using GridSearchCV to check for the best parameter values.\n",
    "\n",
    "param_grid = [\n",
    "  {'C': [1, 10, 100, 1000], 'gamma': [0.3, 0.333, 0.4, 0.5, 0.6, 0.7], 'kernel': ['rbf']},\n",
    " ]\n",
    "\n",
    "svc = svm.SVC()\n",
    "clf = GridSearchCV(svc, param_grid)\n",
    "print(clf)\n",
    "clf.fit(trdata1, trtargetdata)\n",
    "print(sorted(clf.cv_results_.keys()))\n",
    "\n",
    "scoreval = clf.score(ttdata1,tttargetdata)\n",
    "print(\"score:\", scoreval)\n",
    "print('accuracy:', scoreval*100, '%')\n"
   ]
  },
  {
   "cell_type": "code",
   "execution_count": 18,
   "metadata": {},
   "outputs": [
    {
     "data": {
      "text/plain": [
       "{'C': 1.0,\n",
       " 'cache_size': 200,\n",
       " 'class_weight': None,\n",
       " 'coef0': 0.0,\n",
       " 'decision_function_shape': 'ovr',\n",
       " 'degree': 3,\n",
       " 'gamma': 0.6,\n",
       " 'kernel': 'rbf',\n",
       " 'max_iter': -1,\n",
       " 'probability': False,\n",
       " 'random_state': None,\n",
       " 'shrinking': True,\n",
       " 'tol': 0.001,\n",
       " 'verbose': False}"
      ]
     },
     "execution_count": 18,
     "metadata": {},
     "output_type": "execute_result"
    }
   ],
   "source": [
    "clf.get_params()"
   ]
  },
  {
   "cell_type": "markdown",
   "metadata": {},
   "source": [
    "GridSearchCV with different combinations of the parameters 'C' and 'gamma' results in the best fit SVM model for values 'C' = 1 and 'gamma' = 0.6."
   ]
  },
  {
   "cell_type": "markdown",
   "metadata": {},
   "source": [
    "### 5. Cross validation. Feature set: x, y, z values.  'C'=1, 'gamma'=0.6"
   ]
  },
  {
   "cell_type": "code",
   "execution_count": 19,
   "metadata": {},
   "outputs": [
    {
     "name": "stdout",
     "output_type": "stream",
     "text": [
      "SVC(C=1.0, cache_size=200, class_weight=None, coef0=0.0,\n",
      "  decision_function_shape='ovr', degree=3, gamma=0.6, kernel='rbf',\n",
      "  max_iter=-1, probability=False, random_state=None, shrinking=True,\n",
      "  tol=0.001, verbose=False)\n",
      "[ 0.93733333  0.946       0.91666667  0.924       0.93666667  0.90666667\n",
      "  0.942       0.934       0.93533333  0.92933333]\n",
      "Accuracy: 0.93 (+/- 0.02)\n"
     ]
    }
   ],
   "source": [
    "#cross validation over 10 differnt combinations of the data set\n",
    "\n",
    "from sklearn.model_selection import cross_val_score\n",
    "\n",
    "clf = svm.SVC(gamma=0.6)\n",
    "print(clf)\n",
    "\n",
    "scores = cross_val_score(clf, trdata1, trtargetdata, cv=10)\n",
    "print(scores)\n",
    "print(\"Accuracy: %0.2f (+/- %0.2f)\" % (scores.mean(), scores.std() * 2))"
   ]
  },
  {
   "cell_type": "markdown",
   "metadata": {},
   "source": [
    "Cross validation show that the model fitted with paramaeters 'C'=1 and 'gamma'=0.6 results in a consistently good accuracy model."
   ]
  },
  {
   "cell_type": "code",
   "execution_count": null,
   "metadata": {},
   "outputs": [],
   "source": []
  }
 ],
 "metadata": {
  "kernelspec": {
   "display_name": "Python 3",
   "language": "python",
   "name": "python3"
  },
  "language_info": {
   "codemirror_mode": {
    "name": "ipython",
    "version": 3
   },
   "file_extension": ".py",
   "mimetype": "text/x-python",
   "name": "python",
   "nbconvert_exporter": "python",
   "pygments_lexer": "ipython3",
   "version": "3.6.3"
  }
 },
 "nbformat": 4,
 "nbformat_minor": 2
}
