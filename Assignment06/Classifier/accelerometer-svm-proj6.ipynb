{
 "cells": [
  {
   "cell_type": "markdown",
   "metadata": {},
   "source": [
    "### 1. Processing data"
   ]
  },
  {
   "cell_type": "code",
   "execution_count": 2,
   "metadata": {
    "collapsed": false
   },
   "outputs": [
    {
     "name": "stdout",
     "output_type": "stream",
     "text": [
      "6311 6387 5679 5748\n"
     ]
    }
   ],
   "source": [
    "'''\n",
    "#Setting up SVM; processing input data in right format as input to svm.\n",
    "'''\n",
    "\n",
    "from sklearn import svm\n",
    "from sklearn import svm, datasets\n",
    "from sklearn.model_selection import GridSearchCV\n",
    "\n",
    "import numpy as np\n",
    "\n",
    "#--------------------------------\n",
    "\n",
    "def processData(indata):\n",
    "    sdata = np.hsplit(indata, np.array([1,4,5,8,9,12,13,16,17,20]))\n",
    "    \n",
    "    timestamps = sdata[0]\n",
    "#    print(timestamps)\n",
    "\n",
    "    odata1 = sdata[1]\n",
    "    otdata = sdata[2]\n",
    "    odata2 = (odata1*odata1).sum(axis=1)**0.5\n",
    "    for i in range(1,5):\n",
    "#        print(i)\n",
    "        odata1 = np.vstack((odata1,sdata[2*i+1]))\n",
    "        otdata = np.vstack((otdata,sdata[2*i+2]))\n",
    "        dd = (sdata[2*i+1]*sdata[2*i+1]).sum(axis=1)**0.5\n",
    "        odata2 = np.concatenate((odata2,dd))\n",
    "\n",
    "    otdata = np.ravel(otdata)\n",
    "    odata2 = odata2.reshape(-1,1)\n",
    "\n",
    "    return odata1, odata2, otdata, timestamps\n",
    "\n",
    "#-------------------------------\n",
    "\n",
    "indata1 = np.genfromtxt('sitting2.csv',delimiter=',')\n",
    "indata2 = np.genfromtxt('standing2.csv',delimiter=',')\n",
    "#print(indata)\n",
    "#print(indata.shape)\n",
    "\n",
    "n1 = indata1.shape[0]\n",
    "n2 = indata2.shape[0]\n",
    "\n",
    "trtar1 = np.zeros(n1) + 1\n",
    "trtar2 = np.zeros(n2) + 2\n",
    "\n",
    "#training data\n",
    "dtrdata1 = np.vstack((indata1,indata2))\n",
    "\n",
    "#test data\n",
    "dtrtar1 = np.concatenate((trtar1,trtar2))\n",
    "\n",
    "n3 = (n1*9)//10\n",
    "n4 = (n2*9)//10\n",
    "print(n1,n2,n3,n4)\n",
    "trdata3 = indata1[:n3]\n",
    "ttdata3 = indata1[n3:]\n",
    "\n",
    "trtar3 = trtar1[:n3]\n",
    "tttar3 = trtar1[n3:]\n",
    "\n",
    "trdata4 = indata2[:n4]\n",
    "ttdata4 = indata2[n4:]\n",
    "\n",
    "trtar4 = trtar2[:n4]\n",
    "tttar4 = trtar2[n4:]\n",
    "\n",
    "#training data\n",
    "dtrdata2 = np.vstack((trdata3,trdata4))\n",
    "#print(dtrdata2.shape[0])\n",
    "\n",
    "#test data\n",
    "dtrtar2 = np.concatenate((trtar3,trtar4))\n",
    "#print(dtrtar2.shape[0])\n",
    "\n",
    "#training data\n",
    "dttdata2 = np.vstack((ttdata3,ttdata4))\n",
    "#print(dttdata2.shape[0])\n",
    "\n",
    "#test data\n",
    "dtttar2 = np.concatenate((tttar3,tttar4))\n",
    "#print(dtttar2.shape[0])\n"
   ]
  },
  {
   "cell_type": "markdown",
   "metadata": {},
   "source": [
    "### 2. GridSearchCV to search for best parameters 'C' and 'gamma'"
   ]
  },
  {
   "cell_type": "code",
   "execution_count": 3,
   "metadata": {
    "collapsed": false
   },
   "outputs": [
    {
     "name": "stdout",
     "output_type": "stream",
     "text": [
      "GridSearchCV(cv=None, error_score='raise',\n",
      "       estimator=SVC(C=1.0, cache_size=200, class_weight=None, coef0=0.0,\n",
      "  decision_function_shape='ovr', degree=3, gamma='auto', kernel='rbf',\n",
      "  max_iter=-1, probability=False, random_state=None, shrinking=True,\n",
      "  tol=0.001, verbose=False),\n",
      "       fit_params=None, iid=True, n_jobs=1,\n",
      "       param_grid=[{'C': [1, 10, 100, 1000], 'kernel': ['rbf'], 'gamma': [0.3, 0.333, 0.4, 0.5, 0.6, 0.7]}],\n",
      "       pre_dispatch='2*n_jobs', refit=True, return_train_score='warn',\n",
      "       scoring=None, verbose=0)\n",
      "['mean_fit_time', 'mean_score_time', 'mean_test_score', 'mean_train_score', 'param_C', 'param_gamma', 'param_kernel', 'params', 'rank_test_score', 'split0_test_score', 'split0_train_score', 'split1_test_score', 'split1_train_score', 'split2_test_score', 'split2_train_score', 'std_fit_time', 'std_score_time', 'std_test_score', 'std_train_score']\n",
      "score: 0.940991345397\n",
      "accuracy: 94.0991345397 %\n"
     ]
    }
   ],
   "source": [
    "#using GridSearchCV to check for the best parameter values.\n",
    "\n",
    "param_grid = [\n",
    "  {'C': [1, 10, 100, 1000], 'gamma': [0.3, 0.333, 0.4, 0.5, 0.6, 0.7], 'kernel': ['rbf']},\n",
    " ]\n",
    "\n",
    "svc = svm.SVC()\n",
    "clf = GridSearchCV(svc, param_grid)\n",
    "print(clf)\n",
    "clf.fit(dtrdata2, dtrtar2)\n",
    "print(sorted(clf.cv_results_.keys()))\n",
    "\n",
    "scoreval = clf.score(dttdata2,dtttar2)\n",
    "print(\"score:\", scoreval)\n",
    "print('accuracy:', scoreval*100, '%')\n"
   ]
  },
  {
   "cell_type": "code",
   "execution_count": 4,
   "metadata": {
    "collapsed": false
   },
   "outputs": [
    {
     "data": {
      "text/plain": [
       "{'cv': None,\n",
       " 'error_score': 'raise',\n",
       " 'estimator': SVC(C=1.0, cache_size=200, class_weight=None, coef0=0.0,\n",
       "   decision_function_shape='ovr', degree=3, gamma='auto', kernel='rbf',\n",
       "   max_iter=-1, probability=False, random_state=None, shrinking=True,\n",
       "   tol=0.001, verbose=False),\n",
       " 'estimator__C': 1.0,\n",
       " 'estimator__cache_size': 200,\n",
       " 'estimator__class_weight': None,\n",
       " 'estimator__coef0': 0.0,\n",
       " 'estimator__decision_function_shape': 'ovr',\n",
       " 'estimator__degree': 3,\n",
       " 'estimator__gamma': 'auto',\n",
       " 'estimator__kernel': 'rbf',\n",
       " 'estimator__max_iter': -1,\n",
       " 'estimator__probability': False,\n",
       " 'estimator__random_state': None,\n",
       " 'estimator__shrinking': True,\n",
       " 'estimator__tol': 0.001,\n",
       " 'estimator__verbose': False,\n",
       " 'fit_params': None,\n",
       " 'iid': True,\n",
       " 'n_jobs': 1,\n",
       " 'param_grid': [{'C': [1, 10, 100, 1000],\n",
       "   'gamma': [0.3, 0.333, 0.4, 0.5, 0.6, 0.7],\n",
       "   'kernel': ['rbf']}],\n",
       " 'pre_dispatch': '2*n_jobs',\n",
       " 'refit': True,\n",
       " 'return_train_score': 'warn',\n",
       " 'scoring': None,\n",
       " 'verbose': 0}"
      ]
     },
     "execution_count": 4,
     "metadata": {},
     "output_type": "execute_result"
    }
   ],
   "source": [
    "clf.get_params()"
   ]
  },
  {
   "cell_type": "markdown",
   "metadata": {},
   "source": [
    "GridSearchCV with different combinations of the parameters 'C' and 'gamma' results in the best fit SVM model for values 'C' = 1 and 'gamma' = auto.  These are the default parameters."
   ]
  },
  {
   "cell_type": "markdown",
   "metadata": {},
   "source": [
    "### 3. Cross validation. Feature set: x, y, z values.  'C'=1, 'gamma'=auto"
   ]
  },
  {
   "cell_type": "code",
   "execution_count": 5,
   "metadata": {
    "collapsed": false
   },
   "outputs": [
    {
     "name": "stdout",
     "output_type": "stream",
     "text": [
      "SVC(C=1.0, cache_size=200, class_weight=None, coef0=0.0,\n",
      "  decision_function_shape='ovr', degree=3, gamma='auto', kernel='rbf',\n",
      "  max_iter=-1, probability=False, random_state=None, shrinking=True,\n",
      "  tol=0.001, verbose=False)\n",
      "[ 0.68056648  0.97086614  0.98346457  0.99606299  0.9511811   0.94094488\n",
      "  0.94724409  0.95429472  0.9605989   0.94089835]\n",
      "Accuracy: 0.93 (+/- 0.17)\n"
     ]
    }
   ],
   "source": [
    "#cross validation over 10 differnt combinations of the data set\n",
    "\n",
    "from sklearn.model_selection import cross_val_score\n",
    "\n",
    "clf = svm.SVC()\n",
    "print(clf)\n",
    "\n",
    "scores = cross_val_score(clf, dtrdata1, dtrtar1, cv=10)\n",
    "print(scores)\n",
    "print(\"Accuracy: %0.2f (+/- %0.2f)\" % (scores.mean(), scores.std() * 2))"
   ]
  },
  {
   "cell_type": "markdown",
   "metadata": {},
   "source": [
    "Cross validation show that the model fitted with paramaeters 'C'=1 and 'gamma'=auto (default parameters) results in a consistently good accuracy model."
   ]
  },
  {
   "cell_type": "markdown",
   "metadata": {},
   "source": [
    "### 4. SVM model fit. Feature set x, y, z values.  "
   ]
  },
  {
   "cell_type": "code",
   "execution_count": 7,
   "metadata": {
    "collapsed": false
   },
   "outputs": [
    {
     "name": "stdout",
     "output_type": "stream",
     "text": [
      "SVC(C=1.0, cache_size=200, class_weight=None, coef0=0.0,\n",
      "  decision_function_shape='ovr', degree=3, gamma='auto', kernel='rbf',\n",
      "  max_iter=-1, probability=False, random_state=None, shrinking=True,\n",
      "  tol=0.001, verbose=False)\n",
      "29789 29813\n",
      "accuracy%, error%:  99.9194982055 0.0805017945192\n"
     ]
    }
   ],
   "source": [
    "#SVM classifier.  Feature set: X, y, z values \n",
    "from sklearn import svm\n",
    "from sklearn import svm, datasets\n",
    "from sklearn.model_selection import GridSearchCV\n",
    "\n",
    "import numpy as np\n",
    "\n",
    "\n",
    "classifier1 = svm.SVC()\n",
    "print(classifier1)\n",
    "classifier1.fit(dtrdata1,dtrtar1)\n",
    "\n",
    "pdata = np.genfromtxt('combined2.csv', delimiter=',')\n",
    "pdata2 = np.hsplit(pdata, np.array([2]))\n",
    "\n",
    "#print(pdata2)\n",
    "\n",
    "yy = classifier1.predict(pdata2[1])\n",
    "accur = (yy==2.).sum()\n",
    "print(accur, yy.shape[0])\n",
    "accurp = (accur/yy.shape[0])*100\n",
    "err = 100-accurp\n",
    "print(\"accuracy%, error%: \", accurp, err)\n"
   ]
  },
  {
   "cell_type": "markdown",
   "metadata": {},
   "source": [
    "The SVM model fit with x,y,z values as feature set results prediction error rate 0.08(%) "
   ]
  },
  {
   "cell_type": "code",
   "execution_count": null,
   "metadata": {
    "collapsed": true
   },
   "outputs": [],
   "source": []
  }
 ],
 "metadata": {
  "anaconda-cloud": {},
  "kernelspec": {
   "display_name": "Python [Root]",
   "language": "python",
   "name": "Python [Root]"
  },
  "language_info": {
   "codemirror_mode": {
    "name": "ipython",
    "version": 3
   },
   "file_extension": ".py",
   "mimetype": "text/x-python",
   "name": "python",
   "nbconvert_exporter": "python",
   "pygments_lexer": "ipython3",
   "version": "3.5.2"
  }
 },
 "nbformat": 4,
 "nbformat_minor": 2
}
